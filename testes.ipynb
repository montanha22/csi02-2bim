{
 "cells": [
  {
   "cell_type": "code",
   "execution_count": 2,
   "metadata": {},
   "outputs": [],
   "source": [
    "import os\n",
    "import requests\n",
    "from PIL import Image\n",
    "import io\n",
    "\n",
    "os.environ['NO_PROXY'] = '127.0.0.1'"
   ]
  },
  {
   "cell_type": "code",
   "execution_count": 2,
   "metadata": {},
   "outputs": [],
   "source": [
    "# BASE_URL = \"http://127.0.0.1:5000/api/v1/\"\n",
    "BASE_URL = \"https://csi-project-2bim.herokuapp.com/api/v1/\"\n"
   ]
  },
  {
   "cell_type": "code",
   "execution_count": 4,
   "metadata": {},
   "outputs": [
    {
     "name": "stdout",
     "output_type": "stream",
     "text": [
      "[{\"dia\":1,\"mes\":1,\"ano\":2019,\"...\n"
     ]
    }
   ],
   "source": [
    "r = requests.get(\n",
    "    f\"{BASE_URL}/acidentes\",\n",
    "    data=dict(start_month=\"2019-01\", end_month=\"2019-02\"),\n",
    ")\n",
    "print(f\"{r.text[:30]}...\")\n"
   ]
  },
  {
   "cell_type": "code",
   "execution_count": 5,
   "metadata": {},
   "outputs": [
    {
     "name": "stdout",
     "output_type": "stream",
     "text": [
      "[{\"mes\":1,\"ano\":2019,\"vendas\":...\n"
     ]
    }
   ],
   "source": [
    "r = requests.get(\n",
    "    f\"{BASE_URL}/vendas\",\n",
    "    data=dict(start_month=\"2019-01\", end_month=\"2019-02\"),\n",
    ")\n",
    "print(f\"{r.text[:30]}...\")\n"
   ]
  },
  {
   "cell_type": "code",
   "execution_count": 7,
   "metadata": {},
   "outputs": [],
   "source": [
    "r = requests.get(\n",
    "    f\"{BASE_URL}/grafico-vendas-por-mes\",\n",
    "    data=dict(start_month=\"2019-01\", end_month=\"2019-02\"),\n",
    ")\n",
    "image = Image.open(io.BytesIO(r.content))\n",
    "image.show()"
   ]
  },
  {
   "cell_type": "code",
   "execution_count": 28,
   "metadata": {},
   "outputs": [],
   "source": [
    "r = requests.get(\n",
    "    f\"{BASE_URL}/grafico-acidentes-fatais-por-mes\",\n",
    "    data=dict(start_month=\"2019-01\", end_month=\"2019-02\"),\n",
    ")\n",
    "image = Image.open(io.BytesIO(r.content))\n",
    "image.show()"
   ]
  },
  {
   "cell_type": "code",
   "execution_count": 29,
   "metadata": {},
   "outputs": [],
   "source": [
    "r = requests.get(\n",
    "    f\"{BASE_URL}/grafico-acidentes-por-mes\",\n",
    "    data=dict(start_month=\"2019-01\", end_month=\"2019-02\"),\n",
    ")\n",
    "image = Image.open(io.BytesIO(r.content))\n",
    "image.show()"
   ]
  },
  {
   "cell_type": "code",
   "execution_count": 32,
   "metadata": {},
   "outputs": [],
   "source": [
    "r = requests.get(\n",
    "    f\"{BASE_URL}/grafico-acidentes-versus-vendas\",\n",
    "    data=dict(start_month=\"2019-01\", end_month=\"2019-02\"),\n",
    ")\n",
    "image = Image.open(io.BytesIO(r.content))\n",
    "image.show()"
   ]
  }
 ],
 "metadata": {
  "interpreter": {
   "hash": "aa8e4de9f4426ab75fdef01f3d7947e2b3e9cfbdb80ba65115d4f20988c8517e"
  },
  "kernelspec": {
   "display_name": "Python 3.8.8 64-bit",
   "name": "python3"
  },
  "language_info": {
   "codemirror_mode": {
    "name": "ipython",
    "version": 3
   },
   "file_extension": ".py",
   "mimetype": "text/x-python",
   "name": "python",
   "nbconvert_exporter": "python",
   "pygments_lexer": "ipython3",
   "version": "3.8.8"
  },
  "orig_nbformat": 4
 },
 "nbformat": 4,
 "nbformat_minor": 2
}
